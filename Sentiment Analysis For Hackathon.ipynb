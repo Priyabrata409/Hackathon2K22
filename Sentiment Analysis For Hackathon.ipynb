{
 "cells": [
  {
   "cell_type": "markdown",
   "id": "5eebeb77",
   "metadata": {},
   "source": [
    "## Data Preparation "
   ]
  },
  {
   "cell_type": "code",
   "execution_count": 1,
   "id": "970cb7f8",
   "metadata": {},
   "outputs": [],
   "source": [
    "import pandas as pd\n",
    "import re\n",
    "from nltk.stem import WordNetLemmatizer\n",
    "from nltk.corpus import wordnet,stopwords\n",
    "import string\n",
    "import nltk\n",
    "import numpy as np\n",
    "import matplotlib.pyplot as plt\n",
    "from sklearn.model_selection import train_test_split\n",
    "from sklearn.preprocessing import StandardScaler\n",
    "from sklearn.linear_model import LogisticRegression\n",
    "from sklearn.feature_extraction.text import TfidfVectorizer"
   ]
  },
  {
   "cell_type": "code",
   "execution_count": 2,
   "id": "79b1795b",
   "metadata": {},
   "outputs": [],
   "source": [
    "twitter_data=pd.read_csv(\"Twitter_Data.csv\")\n",
    "reddit_data=pd.read_csv(\"Reddit_Data.csv\")"
   ]
  },
  {
   "cell_type": "code",
   "execution_count": 3,
   "id": "1f611260",
   "metadata": {},
   "outputs": [],
   "source": [
    "reddit_data=reddit_data[reddit_data[\"category\"].isin([-1,1])]\n",
    "twitter_data=twitter_data[twitter_data[\"category\"].isin([-1,1])]"
   ]
  },
  {
   "cell_type": "code",
   "execution_count": 4,
   "id": "2db791d0",
   "metadata": {},
   "outputs": [],
   "source": [
    "reddit_data=reddit_data.rename(columns={\"clean_comment\":\"text\"})\n",
    "twitter_data=twitter_data.rename(columns={\"clean_text\":\"text\"})"
   ]
  },
  {
   "cell_type": "code",
   "execution_count": 5,
   "id": "682a22fa",
   "metadata": {},
   "outputs": [],
   "source": [
    "data=pd.concat([reddit_data,twitter_data])"
   ]
  },
  {
   "cell_type": "code",
   "execution_count": 6,
   "id": "17ef8650",
   "metadata": {},
   "outputs": [
    {
     "data": {
      "text/plain": [
       " 1.0    88080\n",
       "-1.0    43787\n",
       "Name: category, dtype: int64"
      ]
     },
     "execution_count": 6,
     "metadata": {},
     "output_type": "execute_result"
    }
   ],
   "source": [
    "data[\"category\"].value_counts()"
   ]
  },
  {
   "cell_type": "code",
   "execution_count": 7,
   "id": "3c2f50eb",
   "metadata": {},
   "outputs": [],
   "source": [
    "data=data.sample(frac=1,random_state=100).reset_index(drop=True)"
   ]
  },
  {
   "cell_type": "code",
   "execution_count": 8,
   "id": "c3dfcdb4",
   "metadata": {},
   "outputs": [],
   "source": [
    "data[\"category\"]=data[\"category\"].replace({-1:0})"
   ]
  },
  {
   "cell_type": "code",
   "execution_count": 9,
   "id": "f93beaf3",
   "metadata": {},
   "outputs": [
    {
     "data": {
      "text/html": [
       "<div>\n",
       "<style scoped>\n",
       "    .dataframe tbody tr th:only-of-type {\n",
       "        vertical-align: middle;\n",
       "    }\n",
       "\n",
       "    .dataframe tbody tr th {\n",
       "        vertical-align: top;\n",
       "    }\n",
       "\n",
       "    .dataframe thead th {\n",
       "        text-align: right;\n",
       "    }\n",
       "</style>\n",
       "<table border=\"1\" class=\"dataframe\">\n",
       "  <thead>\n",
       "    <tr style=\"text-align: right;\">\n",
       "      <th></th>\n",
       "      <th>text</th>\n",
       "      <th>category</th>\n",
       "    </tr>\n",
       "  </thead>\n",
       "  <tbody>\n",
       "    <tr>\n",
       "      <th>0</th>\n",
       "      <td>kulbhushan not yet hanged pak bcoz modi took t...</td>\n",
       "      <td>1.0</td>\n",
       "    </tr>\n",
       "    <tr>\n",
       "      <th>1</th>\n",
       "      <td>these are the founding members the party who b...</td>\n",
       "      <td>0.0</td>\n",
       "    </tr>\n",
       "    <tr>\n",
       "      <th>2</th>\n",
       "      <td>dont belive national media surveys\\nits all so...</td>\n",
       "      <td>1.0</td>\n",
       "    </tr>\n",
       "    <tr>\n",
       "      <th>3</th>\n",
       "      <td>this ended way too soon need more fluff dammit</td>\n",
       "      <td>1.0</td>\n",
       "    </tr>\n",
       "    <tr>\n",
       "      <th>4</th>\n",
       "      <td>modi for doing several first and its one them ...</td>\n",
       "      <td>1.0</td>\n",
       "    </tr>\n",
       "    <tr>\n",
       "      <th>...</th>\n",
       "      <td>...</td>\n",
       "      <td>...</td>\n",
       "    </tr>\n",
       "    <tr>\n",
       "      <th>131862</th>\n",
       "      <td>what nonsense modi talking this the best can g...</td>\n",
       "      <td>1.0</td>\n",
       "    </tr>\n",
       "    <tr>\n",
       "      <th>131863</th>\n",
       "      <td>din for bcz china terroristan are their friend...</td>\n",
       "      <td>0.0</td>\n",
       "    </tr>\n",
       "    <tr>\n",
       "      <th>131864</th>\n",
       "      <td>have rights defend from american and chinese s...</td>\n",
       "      <td>1.0</td>\n",
       "    </tr>\n",
       "    <tr>\n",
       "      <th>131865</th>\n",
       "      <td>atleast antimodi brigade other states agree th...</td>\n",
       "      <td>0.0</td>\n",
       "    </tr>\n",
       "    <tr>\n",
       "      <th>131866</th>\n",
       "      <td>rising price only concern citizens and the res...</td>\n",
       "      <td>1.0</td>\n",
       "    </tr>\n",
       "  </tbody>\n",
       "</table>\n",
       "<p>131867 rows × 2 columns</p>\n",
       "</div>"
      ],
      "text/plain": [
       "                                                     text  category\n",
       "0       kulbhushan not yet hanged pak bcoz modi took t...       1.0\n",
       "1       these are the founding members the party who b...       0.0\n",
       "2       dont belive national media surveys\\nits all so...       1.0\n",
       "3         this ended way too soon need more fluff dammit        1.0\n",
       "4       modi for doing several first and its one them ...       1.0\n",
       "...                                                   ...       ...\n",
       "131862  what nonsense modi talking this the best can g...       1.0\n",
       "131863  din for bcz china terroristan are their friend...       0.0\n",
       "131864  have rights defend from american and chinese s...       1.0\n",
       "131865  atleast antimodi brigade other states agree th...       0.0\n",
       "131866  rising price only concern citizens and the res...       1.0\n",
       "\n",
       "[131867 rows x 2 columns]"
      ]
     },
     "execution_count": 9,
     "metadata": {},
     "output_type": "execute_result"
    }
   ],
   "source": [
    "data"
   ]
  },
  {
   "cell_type": "code",
   "execution_count": 10,
   "id": "8049582b",
   "metadata": {},
   "outputs": [],
   "source": [
    "data[\"ug_id\"]=np.random.choice(range(1000,10001,250),size=data.shape[0])\n",
    "data[\"sm_id\"]=None"
   ]
  },
  {
   "cell_type": "code",
   "execution_count": 11,
   "id": "1e3d3922",
   "metadata": {},
   "outputs": [],
   "source": [
    "for n in range(1000,10001,250):\n",
    "    data.loc[data[\"ug_id\"]==n,\"sm_id\"] = np.random.choice(range(n+1000,n+2000,100),size=len(data[data[\"ug_id\"]==n]))"
   ]
  },
  {
   "cell_type": "code",
   "execution_count": 12,
   "id": "5de3968d",
   "metadata": {},
   "outputs": [],
   "source": [
    "data[\"agent_id\"]=np.random.randint(100,150,size=data.shape[0])"
   ]
  },
  {
   "cell_type": "code",
   "execution_count": 13,
   "id": "ac0b2aa9",
   "metadata": {},
   "outputs": [],
   "source": [
    "import randomtimestamp\n",
    "import datetime"
   ]
  },
  {
   "cell_type": "code",
   "execution_count": 14,
   "id": "6ced2d1e",
   "metadata": {},
   "outputs": [],
   "source": [
    "data[\"date\"]=[randomtimestamp.randomtimestamp(start_year=2020,end_year=2022) for i in range(len(data))]"
   ]
  },
  {
   "cell_type": "code",
   "execution_count": 15,
   "id": "c5b28d4c",
   "metadata": {},
   "outputs": [
    {
     "data": {
      "text/html": [
       "<div>\n",
       "<style scoped>\n",
       "    .dataframe tbody tr th:only-of-type {\n",
       "        vertical-align: middle;\n",
       "    }\n",
       "\n",
       "    .dataframe tbody tr th {\n",
       "        vertical-align: top;\n",
       "    }\n",
       "\n",
       "    .dataframe thead th {\n",
       "        text-align: right;\n",
       "    }\n",
       "</style>\n",
       "<table border=\"1\" class=\"dataframe\">\n",
       "  <thead>\n",
       "    <tr style=\"text-align: right;\">\n",
       "      <th></th>\n",
       "      <th>text</th>\n",
       "      <th>category</th>\n",
       "      <th>ug_id</th>\n",
       "      <th>sm_id</th>\n",
       "      <th>agent_id</th>\n",
       "      <th>date</th>\n",
       "    </tr>\n",
       "  </thead>\n",
       "  <tbody>\n",
       "    <tr>\n",
       "      <th>0</th>\n",
       "      <td>kulbhushan not yet hanged pak bcoz modi took t...</td>\n",
       "      <td>1.0</td>\n",
       "      <td>9250</td>\n",
       "      <td>10650</td>\n",
       "      <td>101</td>\n",
       "      <td>2020-03-18 13:05:17</td>\n",
       "    </tr>\n",
       "    <tr>\n",
       "      <th>1</th>\n",
       "      <td>these are the founding members the party who b...</td>\n",
       "      <td>0.0</td>\n",
       "      <td>7500</td>\n",
       "      <td>8700</td>\n",
       "      <td>124</td>\n",
       "      <td>2021-08-13 12:32:26</td>\n",
       "    </tr>\n",
       "    <tr>\n",
       "      <th>2</th>\n",
       "      <td>dont belive national media surveys\\nits all so...</td>\n",
       "      <td>1.0</td>\n",
       "      <td>1000</td>\n",
       "      <td>2500</td>\n",
       "      <td>129</td>\n",
       "      <td>2021-03-10 07:14:51</td>\n",
       "    </tr>\n",
       "    <tr>\n",
       "      <th>3</th>\n",
       "      <td>this ended way too soon need more fluff dammit</td>\n",
       "      <td>1.0</td>\n",
       "      <td>10000</td>\n",
       "      <td>11400</td>\n",
       "      <td>128</td>\n",
       "      <td>2021-04-12 01:59:00</td>\n",
       "    </tr>\n",
       "    <tr>\n",
       "      <th>4</th>\n",
       "      <td>modi for doing several first and its one them ...</td>\n",
       "      <td>1.0</td>\n",
       "      <td>6000</td>\n",
       "      <td>7800</td>\n",
       "      <td>124</td>\n",
       "      <td>2021-10-20 14:04:50</td>\n",
       "    </tr>\n",
       "    <tr>\n",
       "      <th>...</th>\n",
       "      <td>...</td>\n",
       "      <td>...</td>\n",
       "      <td>...</td>\n",
       "      <td>...</td>\n",
       "      <td>...</td>\n",
       "      <td>...</td>\n",
       "    </tr>\n",
       "    <tr>\n",
       "      <th>131862</th>\n",
       "      <td>what nonsense modi talking this the best can g...</td>\n",
       "      <td>1.0</td>\n",
       "      <td>5750</td>\n",
       "      <td>7350</td>\n",
       "      <td>145</td>\n",
       "      <td>2020-06-07 10:43:01</td>\n",
       "    </tr>\n",
       "    <tr>\n",
       "      <th>131863</th>\n",
       "      <td>din for bcz china terroristan are their friend...</td>\n",
       "      <td>0.0</td>\n",
       "      <td>4000</td>\n",
       "      <td>5200</td>\n",
       "      <td>102</td>\n",
       "      <td>2020-03-28 23:43:33</td>\n",
       "    </tr>\n",
       "    <tr>\n",
       "      <th>131864</th>\n",
       "      <td>have rights defend from american and chinese s...</td>\n",
       "      <td>1.0</td>\n",
       "      <td>1000</td>\n",
       "      <td>2500</td>\n",
       "      <td>142</td>\n",
       "      <td>2021-02-06 20:24:04</td>\n",
       "    </tr>\n",
       "    <tr>\n",
       "      <th>131865</th>\n",
       "      <td>atleast antimodi brigade other states agree th...</td>\n",
       "      <td>0.0</td>\n",
       "      <td>9000</td>\n",
       "      <td>10900</td>\n",
       "      <td>112</td>\n",
       "      <td>2021-09-04 16:23:07</td>\n",
       "    </tr>\n",
       "    <tr>\n",
       "      <th>131866</th>\n",
       "      <td>rising price only concern citizens and the res...</td>\n",
       "      <td>1.0</td>\n",
       "      <td>2000</td>\n",
       "      <td>3300</td>\n",
       "      <td>126</td>\n",
       "      <td>2021-02-24 18:02:58</td>\n",
       "    </tr>\n",
       "  </tbody>\n",
       "</table>\n",
       "<p>131867 rows × 6 columns</p>\n",
       "</div>"
      ],
      "text/plain": [
       "                                                     text  category  ug_id  \\\n",
       "0       kulbhushan not yet hanged pak bcoz modi took t...       1.0   9250   \n",
       "1       these are the founding members the party who b...       0.0   7500   \n",
       "2       dont belive national media surveys\\nits all so...       1.0   1000   \n",
       "3         this ended way too soon need more fluff dammit        1.0  10000   \n",
       "4       modi for doing several first and its one them ...       1.0   6000   \n",
       "...                                                   ...       ...    ...   \n",
       "131862  what nonsense modi talking this the best can g...       1.0   5750   \n",
       "131863  din for bcz china terroristan are their friend...       0.0   4000   \n",
       "131864  have rights defend from american and chinese s...       1.0   1000   \n",
       "131865  atleast antimodi brigade other states agree th...       0.0   9000   \n",
       "131866  rising price only concern citizens and the res...       1.0   2000   \n",
       "\n",
       "        sm_id  agent_id                date  \n",
       "0       10650       101 2020-03-18 13:05:17  \n",
       "1        8700       124 2021-08-13 12:32:26  \n",
       "2        2500       129 2021-03-10 07:14:51  \n",
       "3       11400       128 2021-04-12 01:59:00  \n",
       "4        7800       124 2021-10-20 14:04:50  \n",
       "...       ...       ...                 ...  \n",
       "131862   7350       145 2020-06-07 10:43:01  \n",
       "131863   5200       102 2020-03-28 23:43:33  \n",
       "131864   2500       142 2021-02-06 20:24:04  \n",
       "131865  10900       112 2021-09-04 16:23:07  \n",
       "131866   3300       126 2021-02-24 18:02:58  \n",
       "\n",
       "[131867 rows x 6 columns]"
      ]
     },
     "execution_count": 15,
     "metadata": {},
     "output_type": "execute_result"
    }
   ],
   "source": [
    "data"
   ]
  },
  {
   "cell_type": "markdown",
   "id": "72616979",
   "metadata": {},
   "source": [
    "## Data Preprocessing"
   ]
  },
  {
   "cell_type": "code",
   "execution_count": 16,
   "id": "2abe9057",
   "metadata": {},
   "outputs": [],
   "source": [
    "def remove_emoji(string):\n",
    "    emoji_pattern = re.compile(\"[\"\n",
    "                           u\"\\U0001F600-\\U0001F64F\"  # emoticons\n",
    "                           u\"\\U0001F300-\\U0001F5FF\"  # symbols & pictographs\n",
    "                           u\"\\U0001F680-\\U0001F6FF\"  # transport & map symbols\n",
    "                           u\"\\U0001F1E0-\\U0001F1FF\"  # flags (iOS)\n",
    "                           u\"\\U00002702-\\U000027B0\"\n",
    "                           u\"\\U000024C2-\\U0001F251\"\n",
    "                           \"]+\", flags=re.UNICODE)\n",
    "    return emoji_pattern.sub(r'', string)\n",
    "\n",
    "PUNCT_TO_REMOVE = string.punctuation + '\\t\\n\\r-'\n",
    "def remove_punctuation(text):\n",
    "    \"\"\"custom function to remove the punctuation\"\"\"\n",
    "    translate_dict = dict((c, \" \") for c in PUNCT_TO_REMOVE)\n",
    "    translate_map = str.maketrans(translate_dict)\n",
    "    return text.translate(translate_map)\n",
    "\n",
    "def remove_space(text):\n",
    "    words=[word.strip() for word in text.split()]\n",
    "    return \" \".join(words)\n",
    "\n",
    "def remove_alpha_numeric_text(x):\n",
    "    pattern=re.compile(r\"\\d*[a-zA-Z]+\\d+[a-zA-Z]*|[a-zA-Z]*\\d+[a-zA-Z]+\\d*\",flags=re.IGNORECASE)\n",
    "    cleaned_string=re.sub(pattern,'',x)\n",
    "    return cleaned_string\n",
    "\n",
    "def remove_stopwords(text):\n",
    "    return \" \".join([word.strip() for word in text.split() if word not in set(stopwords.words(\"english\"))])\n",
    "    \n",
    "lemmatizer = WordNetLemmatizer()\n",
    "wordnet_map = {\"N\":wordnet.NOUN, \"V\":wordnet.VERB, \"J\":wordnet.ADJ, \"R\":wordnet.ADV}\n",
    "def lemmatize_words(text):\n",
    "    pos_tagged_text = nltk.pos_tag(text.split())\n",
    "    return \" \".join([lemmatizer.lemmatize(word, wordnet_map.get(pos[0], wordnet.NOUN)) for word, pos in pos_tagged_text])"
   ]
  },
  {
   "cell_type": "code",
   "execution_count": 17,
   "id": "d8e5a1de",
   "metadata": {},
   "outputs": [],
   "source": [
    "data=data.dropna()"
   ]
  },
  {
   "cell_type": "code",
   "execution_count": 18,
   "id": "79ae20a8",
   "metadata": {},
   "outputs": [
    {
     "data": {
      "text/html": [
       "<div>\n",
       "<style scoped>\n",
       "    .dataframe tbody tr th:only-of-type {\n",
       "        vertical-align: middle;\n",
       "    }\n",
       "\n",
       "    .dataframe tbody tr th {\n",
       "        vertical-align: top;\n",
       "    }\n",
       "\n",
       "    .dataframe thead th {\n",
       "        text-align: right;\n",
       "    }\n",
       "</style>\n",
       "<table border=\"1\" class=\"dataframe\">\n",
       "  <thead>\n",
       "    <tr style=\"text-align: right;\">\n",
       "      <th></th>\n",
       "      <th>text</th>\n",
       "      <th>category</th>\n",
       "      <th>ug_id</th>\n",
       "      <th>sm_id</th>\n",
       "      <th>agent_id</th>\n",
       "      <th>date</th>\n",
       "    </tr>\n",
       "  </thead>\n",
       "  <tbody>\n",
       "    <tr>\n",
       "      <th>0</th>\n",
       "      <td>kulbhushan not yet hanged pak bcoz modi took t...</td>\n",
       "      <td>1.0</td>\n",
       "      <td>9250</td>\n",
       "      <td>10650</td>\n",
       "      <td>101</td>\n",
       "      <td>2020-03-18 13:05:17</td>\n",
       "    </tr>\n",
       "    <tr>\n",
       "      <th>1</th>\n",
       "      <td>these are the founding members the party who b...</td>\n",
       "      <td>0.0</td>\n",
       "      <td>7500</td>\n",
       "      <td>8700</td>\n",
       "      <td>124</td>\n",
       "      <td>2021-08-13 12:32:26</td>\n",
       "    </tr>\n",
       "    <tr>\n",
       "      <th>2</th>\n",
       "      <td>dont belive national media surveys\\nits all so...</td>\n",
       "      <td>1.0</td>\n",
       "      <td>1000</td>\n",
       "      <td>2500</td>\n",
       "      <td>129</td>\n",
       "      <td>2021-03-10 07:14:51</td>\n",
       "    </tr>\n",
       "    <tr>\n",
       "      <th>3</th>\n",
       "      <td>this ended way too soon need more fluff dammit</td>\n",
       "      <td>1.0</td>\n",
       "      <td>10000</td>\n",
       "      <td>11400</td>\n",
       "      <td>128</td>\n",
       "      <td>2021-04-12 01:59:00</td>\n",
       "    </tr>\n",
       "    <tr>\n",
       "      <th>4</th>\n",
       "      <td>modi for doing several first and its one them ...</td>\n",
       "      <td>1.0</td>\n",
       "      <td>6000</td>\n",
       "      <td>7800</td>\n",
       "      <td>124</td>\n",
       "      <td>2021-10-20 14:04:50</td>\n",
       "    </tr>\n",
       "    <tr>\n",
       "      <th>...</th>\n",
       "      <td>...</td>\n",
       "      <td>...</td>\n",
       "      <td>...</td>\n",
       "      <td>...</td>\n",
       "      <td>...</td>\n",
       "      <td>...</td>\n",
       "    </tr>\n",
       "    <tr>\n",
       "      <th>131862</th>\n",
       "      <td>what nonsense modi talking this the best can g...</td>\n",
       "      <td>1.0</td>\n",
       "      <td>5750</td>\n",
       "      <td>7350</td>\n",
       "      <td>145</td>\n",
       "      <td>2020-06-07 10:43:01</td>\n",
       "    </tr>\n",
       "    <tr>\n",
       "      <th>131863</th>\n",
       "      <td>din for bcz china terroristan are their friend...</td>\n",
       "      <td>0.0</td>\n",
       "      <td>4000</td>\n",
       "      <td>5200</td>\n",
       "      <td>102</td>\n",
       "      <td>2020-03-28 23:43:33</td>\n",
       "    </tr>\n",
       "    <tr>\n",
       "      <th>131864</th>\n",
       "      <td>have rights defend from american and chinese s...</td>\n",
       "      <td>1.0</td>\n",
       "      <td>1000</td>\n",
       "      <td>2500</td>\n",
       "      <td>142</td>\n",
       "      <td>2021-02-06 20:24:04</td>\n",
       "    </tr>\n",
       "    <tr>\n",
       "      <th>131865</th>\n",
       "      <td>atleast antimodi brigade other states agree th...</td>\n",
       "      <td>0.0</td>\n",
       "      <td>9000</td>\n",
       "      <td>10900</td>\n",
       "      <td>112</td>\n",
       "      <td>2021-09-04 16:23:07</td>\n",
       "    </tr>\n",
       "    <tr>\n",
       "      <th>131866</th>\n",
       "      <td>rising price only concern citizens and the res...</td>\n",
       "      <td>1.0</td>\n",
       "      <td>2000</td>\n",
       "      <td>3300</td>\n",
       "      <td>126</td>\n",
       "      <td>2021-02-24 18:02:58</td>\n",
       "    </tr>\n",
       "  </tbody>\n",
       "</table>\n",
       "<p>131865 rows × 6 columns</p>\n",
       "</div>"
      ],
      "text/plain": [
       "                                                     text  category  ug_id  \\\n",
       "0       kulbhushan not yet hanged pak bcoz modi took t...       1.0   9250   \n",
       "1       these are the founding members the party who b...       0.0   7500   \n",
       "2       dont belive national media surveys\\nits all so...       1.0   1000   \n",
       "3         this ended way too soon need more fluff dammit        1.0  10000   \n",
       "4       modi for doing several first and its one them ...       1.0   6000   \n",
       "...                                                   ...       ...    ...   \n",
       "131862  what nonsense modi talking this the best can g...       1.0   5750   \n",
       "131863  din for bcz china terroristan are their friend...       0.0   4000   \n",
       "131864  have rights defend from american and chinese s...       1.0   1000   \n",
       "131865  atleast antimodi brigade other states agree th...       0.0   9000   \n",
       "131866  rising price only concern citizens and the res...       1.0   2000   \n",
       "\n",
       "        sm_id  agent_id                date  \n",
       "0       10650       101 2020-03-18 13:05:17  \n",
       "1        8700       124 2021-08-13 12:32:26  \n",
       "2        2500       129 2021-03-10 07:14:51  \n",
       "3       11400       128 2021-04-12 01:59:00  \n",
       "4        7800       124 2021-10-20 14:04:50  \n",
       "...       ...       ...                 ...  \n",
       "131862   7350       145 2020-06-07 10:43:01  \n",
       "131863   5200       102 2020-03-28 23:43:33  \n",
       "131864   2500       142 2021-02-06 20:24:04  \n",
       "131865  10900       112 2021-09-04 16:23:07  \n",
       "131866   3300       126 2021-02-24 18:02:58  \n",
       "\n",
       "[131865 rows x 6 columns]"
      ]
     },
     "execution_count": 18,
     "metadata": {},
     "output_type": "execute_result"
    }
   ],
   "source": [
    "data"
   ]
  },
  {
   "cell_type": "code",
   "execution_count": 19,
   "id": "6c3dba76",
   "metadata": {},
   "outputs": [
    {
     "name": "stderr",
     "output_type": "stream",
     "text": [
      "/var/folders/gk/_ldt14tj7b3540d0qg9g3tph0000gn/T/ipykernel_760/2536948350.py:1: SettingWithCopyWarning: \n",
      "A value is trying to be set on a copy of a slice from a DataFrame.\n",
      "Try using .loc[row_indexer,col_indexer] = value instead\n",
      "\n",
      "See the caveats in the documentation: https://pandas.pydata.org/pandas-docs/stable/user_guide/indexing.html#returning-a-view-versus-a-copy\n",
      "  data[\"gmailunit_id\"]=np.random.randint(5004001,9182938193,data.shape[0])\n"
     ]
    }
   ],
   "source": [
    "data[\"gmailunit_id\"]=np.random.randint(5004001,9182938193,data.shape[0])"
   ]
  },
  {
   "cell_type": "code",
   "execution_count": 20,
   "id": "53312731",
   "metadata": {},
   "outputs": [],
   "source": [
    "data=data[[\"ug_id\",\"sm_id\",\"gmailunit_id\",\"agent_id\",\"date\",\"text\",\"category\"]]"
   ]
  },
  {
   "cell_type": "code",
   "execution_count": 21,
   "id": "10896a80",
   "metadata": {},
   "outputs": [],
   "source": [
    "data_n=data[data[\"category\"]==0].sample(n=20000,random_state=50)\n",
    "data_p=data[data[\"category\"]==1].sample(n=20000,random_state=50)\n",
    "df=pd.concat([data_p,data_n])"
   ]
  },
  {
   "cell_type": "code",
   "execution_count": 22,
   "id": "3557c69c",
   "metadata": {},
   "outputs": [
    {
     "data": {
      "text/plain": [
       "(131865, 7)"
      ]
     },
     "execution_count": 22,
     "metadata": {},
     "output_type": "execute_result"
    }
   ],
   "source": [
    "data.shape"
   ]
  },
  {
   "cell_type": "code",
   "execution_count": 24,
   "id": "d001798c",
   "metadata": {},
   "outputs": [],
   "source": [
    "df[\"text\"] =df[\"text\"].str.lower()\n",
    "df[\"text\"] = df[\"text\"].apply(lambda x : remove_punctuation(x))\n",
    "df[\"text\"]= df[\"text\"].apply(lambda x : remove_space(x))\n",
    "df[\"text\"] = df[\"text\"].apply(lambda x: remove_alpha_numeric_text(x))\n",
    "df[\"text\"]=df[\"text\"].apply(lambda x: remove_stopwords(x))\n",
    "\n"
   ]
  },
  {
   "cell_type": "code",
   "execution_count": 25,
   "id": "192bf01e",
   "metadata": {},
   "outputs": [],
   "source": [
    "df[\"text\"]= df[\"text\"].apply(lambda x: lemmatize_words(x))"
   ]
  },
  {
   "cell_type": "code",
   "execution_count": 26,
   "id": "e04e6fe8",
   "metadata": {},
   "outputs": [],
   "source": [
    "# Embedding Generation -> Converting Strings/Words into a mathematical representation\n",
    "import random\n",
    "seed_value = 99\n",
    "random.seed(seed_value)\n",
    "np.random.seed(seed_value)\n",
    "\n",
    "def tfidf_vectorization(df):\n",
    "    \n",
    "    count = TfidfVectorizer()\n",
    "    count.fit(df[\"text\"])\n",
    "    features_tfidf = count.transform(df[\"text\"])\n",
    "    \n",
    "    return features_tfidf\n",
    "\n",
    "X = tfidf_vectorization(df)"
   ]
  },
  {
   "cell_type": "code",
   "execution_count": 27,
   "id": "5ddf5b7f",
   "metadata": {},
   "outputs": [],
   "source": [
    "count = TfidfVectorizer()\n",
    "count.fit(df[\"text\"])\n",
    "features_tfidf = count.transform(df[\"text\"])"
   ]
  },
  {
   "cell_type": "code",
   "execution_count": 28,
   "id": "df67dfb6",
   "metadata": {},
   "outputs": [
    {
     "data": {
      "text/plain": [
       "(40000, 45974)"
      ]
     },
     "execution_count": 28,
     "metadata": {},
     "output_type": "execute_result"
    }
   ],
   "source": [
    "X.shape"
   ]
  },
  {
   "cell_type": "code",
   "execution_count": 29,
   "id": "3afe2d2e",
   "metadata": {},
   "outputs": [],
   "source": [
    "train_X,test_X,train_y,test_y=train_test_split(X,df[\"category\"],test_size=0.25,stratify=df[\"category\"])"
   ]
  },
  {
   "cell_type": "code",
   "execution_count": 30,
   "id": "d1d448f3",
   "metadata": {},
   "outputs": [],
   "source": [
    "lr=LogisticRegression()"
   ]
  },
  {
   "cell_type": "code",
   "execution_count": 31,
   "id": "81735203",
   "metadata": {},
   "outputs": [
    {
     "data": {
      "text/html": [
       "<style>#sk-container-id-1 {color: black;background-color: white;}#sk-container-id-1 pre{padding: 0;}#sk-container-id-1 div.sk-toggleable {background-color: white;}#sk-container-id-1 label.sk-toggleable__label {cursor: pointer;display: block;width: 100%;margin-bottom: 0;padding: 0.3em;box-sizing: border-box;text-align: center;}#sk-container-id-1 label.sk-toggleable__label-arrow:before {content: \"▸\";float: left;margin-right: 0.25em;color: #696969;}#sk-container-id-1 label.sk-toggleable__label-arrow:hover:before {color: black;}#sk-container-id-1 div.sk-estimator:hover label.sk-toggleable__label-arrow:before {color: black;}#sk-container-id-1 div.sk-toggleable__content {max-height: 0;max-width: 0;overflow: hidden;text-align: left;background-color: #f0f8ff;}#sk-container-id-1 div.sk-toggleable__content pre {margin: 0.2em;color: black;border-radius: 0.25em;background-color: #f0f8ff;}#sk-container-id-1 input.sk-toggleable__control:checked~div.sk-toggleable__content {max-height: 200px;max-width: 100%;overflow: auto;}#sk-container-id-1 input.sk-toggleable__control:checked~label.sk-toggleable__label-arrow:before {content: \"▾\";}#sk-container-id-1 div.sk-estimator input.sk-toggleable__control:checked~label.sk-toggleable__label {background-color: #d4ebff;}#sk-container-id-1 div.sk-label input.sk-toggleable__control:checked~label.sk-toggleable__label {background-color: #d4ebff;}#sk-container-id-1 input.sk-hidden--visually {border: 0;clip: rect(1px 1px 1px 1px);clip: rect(1px, 1px, 1px, 1px);height: 1px;margin: -1px;overflow: hidden;padding: 0;position: absolute;width: 1px;}#sk-container-id-1 div.sk-estimator {font-family: monospace;background-color: #f0f8ff;border: 1px dotted black;border-radius: 0.25em;box-sizing: border-box;margin-bottom: 0.5em;}#sk-container-id-1 div.sk-estimator:hover {background-color: #d4ebff;}#sk-container-id-1 div.sk-parallel-item::after {content: \"\";width: 100%;border-bottom: 1px solid gray;flex-grow: 1;}#sk-container-id-1 div.sk-label:hover label.sk-toggleable__label {background-color: #d4ebff;}#sk-container-id-1 div.sk-serial::before {content: \"\";position: absolute;border-left: 1px solid gray;box-sizing: border-box;top: 0;bottom: 0;left: 50%;z-index: 0;}#sk-container-id-1 div.sk-serial {display: flex;flex-direction: column;align-items: center;background-color: white;padding-right: 0.2em;padding-left: 0.2em;position: relative;}#sk-container-id-1 div.sk-item {position: relative;z-index: 1;}#sk-container-id-1 div.sk-parallel {display: flex;align-items: stretch;justify-content: center;background-color: white;position: relative;}#sk-container-id-1 div.sk-item::before, #sk-container-id-1 div.sk-parallel-item::before {content: \"\";position: absolute;border-left: 1px solid gray;box-sizing: border-box;top: 0;bottom: 0;left: 50%;z-index: -1;}#sk-container-id-1 div.sk-parallel-item {display: flex;flex-direction: column;z-index: 1;position: relative;background-color: white;}#sk-container-id-1 div.sk-parallel-item:first-child::after {align-self: flex-end;width: 50%;}#sk-container-id-1 div.sk-parallel-item:last-child::after {align-self: flex-start;width: 50%;}#sk-container-id-1 div.sk-parallel-item:only-child::after {width: 0;}#sk-container-id-1 div.sk-dashed-wrapped {border: 1px dashed gray;margin: 0 0.4em 0.5em 0.4em;box-sizing: border-box;padding-bottom: 0.4em;background-color: white;}#sk-container-id-1 div.sk-label label {font-family: monospace;font-weight: bold;display: inline-block;line-height: 1.2em;}#sk-container-id-1 div.sk-label-container {text-align: center;}#sk-container-id-1 div.sk-container {/* jupyter's `normalize.less` sets `[hidden] { display: none; }` but bootstrap.min.css set `[hidden] { display: none !important; }` so we also need the `!important` here to be able to override the default hidden behavior on the sphinx rendered scikit-learn.org. See: https://github.com/scikit-learn/scikit-learn/issues/21755 */display: inline-block !important;position: relative;}#sk-container-id-1 div.sk-text-repr-fallback {display: none;}</style><div id=\"sk-container-id-1\" class=\"sk-top-container\"><div class=\"sk-text-repr-fallback\"><pre>LogisticRegression()</pre><b>In a Jupyter environment, please rerun this cell to show the HTML representation or trust the notebook. <br />On GitHub, the HTML representation is unable to render, please try loading this page with nbviewer.org.</b></div><div class=\"sk-container\" hidden><div class=\"sk-item\"><div class=\"sk-estimator sk-toggleable\"><input class=\"sk-toggleable__control sk-hidden--visually\" id=\"sk-estimator-id-1\" type=\"checkbox\" checked><label for=\"sk-estimator-id-1\" class=\"sk-toggleable__label sk-toggleable__label-arrow\">LogisticRegression</label><div class=\"sk-toggleable__content\"><pre>LogisticRegression()</pre></div></div></div></div></div>"
      ],
      "text/plain": [
       "LogisticRegression()"
      ]
     },
     "execution_count": 31,
     "metadata": {},
     "output_type": "execute_result"
    }
   ],
   "source": [
    "lr.fit(train_X,train_y)"
   ]
  },
  {
   "cell_type": "code",
   "execution_count": 32,
   "id": "c9c70554",
   "metadata": {},
   "outputs": [],
   "source": [
    "pred=lr.predict(test_X)"
   ]
  },
  {
   "cell_type": "code",
   "execution_count": 33,
   "id": "137689ce",
   "metadata": {},
   "outputs": [],
   "source": [
    "from sklearn.metrics import accuracy_score,precision_score"
   ]
  },
  {
   "cell_type": "code",
   "execution_count": 34,
   "id": "2742e853",
   "metadata": {},
   "outputs": [
    {
     "data": {
      "text/plain": [
       "0.8558"
      ]
     },
     "execution_count": 34,
     "metadata": {},
     "output_type": "execute_result"
    }
   ],
   "source": [
    "accuracy_score(test_y,pred)"
   ]
  },
  {
   "cell_type": "code",
   "execution_count": 35,
   "id": "dcd5f780",
   "metadata": {},
   "outputs": [
    {
     "data": {
      "text/plain": [
       "0.8665018541409147"
      ]
     },
     "execution_count": 35,
     "metadata": {},
     "output_type": "execute_result"
    }
   ],
   "source": [
    "precision_score(test_y,pred)"
   ]
  },
  {
   "cell_type": "code",
   "execution_count": 36,
   "id": "704d6078",
   "metadata": {},
   "outputs": [],
   "source": [
    "df[\"satisfaction_score\"]=lr.predict_proba(X)[:,1]*100"
   ]
  },
  {
   "cell_type": "code",
   "execution_count": 37,
   "id": "d6fd7313",
   "metadata": {},
   "outputs": [],
   "source": [
    "df[\"satisfaction_score\"]=df[\"satisfaction_score\"].round(2)"
   ]
  },
  {
   "cell_type": "code",
   "execution_count": 38,
   "id": "50fdefeb",
   "metadata": {},
   "outputs": [],
   "source": [
    "result=df[[\"ug_id\",\"sm_id\",\"gmailunit_id\",\"agent_id\",\"date\",\"satisfaction_score\"]]"
   ]
  },
  {
   "cell_type": "code",
   "execution_count": 39,
   "id": "2f4470be",
   "metadata": {},
   "outputs": [
    {
     "data": {
      "text/html": [
       "<div>\n",
       "<style scoped>\n",
       "    .dataframe tbody tr th:only-of-type {\n",
       "        vertical-align: middle;\n",
       "    }\n",
       "\n",
       "    .dataframe tbody tr th {\n",
       "        vertical-align: top;\n",
       "    }\n",
       "\n",
       "    .dataframe thead th {\n",
       "        text-align: right;\n",
       "    }\n",
       "</style>\n",
       "<table border=\"1\" class=\"dataframe\">\n",
       "  <thead>\n",
       "    <tr style=\"text-align: right;\">\n",
       "      <th></th>\n",
       "      <th>ug_id</th>\n",
       "      <th>sm_id</th>\n",
       "      <th>gmailunit_id</th>\n",
       "      <th>agent_id</th>\n",
       "      <th>date</th>\n",
       "      <th>satisfaction_score</th>\n",
       "    </tr>\n",
       "  </thead>\n",
       "  <tbody>\n",
       "    <tr>\n",
       "      <th>55716</th>\n",
       "      <td>8000</td>\n",
       "      <td>9800</td>\n",
       "      <td>9097318722</td>\n",
       "      <td>131</td>\n",
       "      <td>2022-04-04 20:39:37</td>\n",
       "      <td>66.27</td>\n",
       "    </tr>\n",
       "    <tr>\n",
       "      <th>108907</th>\n",
       "      <td>6750</td>\n",
       "      <td>7850</td>\n",
       "      <td>5445691566</td>\n",
       "      <td>133</td>\n",
       "      <td>2020-12-09 11:53:35</td>\n",
       "      <td>21.87</td>\n",
       "    </tr>\n",
       "    <tr>\n",
       "      <th>40264</th>\n",
       "      <td>6500</td>\n",
       "      <td>7800</td>\n",
       "      <td>1951212172</td>\n",
       "      <td>142</td>\n",
       "      <td>2022-08-16 17:32:46</td>\n",
       "      <td>74.42</td>\n",
       "    </tr>\n",
       "    <tr>\n",
       "      <th>65611</th>\n",
       "      <td>8750</td>\n",
       "      <td>10650</td>\n",
       "      <td>342531107</td>\n",
       "      <td>110</td>\n",
       "      <td>2022-05-05 09:07:43</td>\n",
       "      <td>88.29</td>\n",
       "    </tr>\n",
       "    <tr>\n",
       "      <th>21033</th>\n",
       "      <td>4250</td>\n",
       "      <td>5350</td>\n",
       "      <td>5574185202</td>\n",
       "      <td>138</td>\n",
       "      <td>2021-09-29 10:45:18</td>\n",
       "      <td>96.14</td>\n",
       "    </tr>\n",
       "    <tr>\n",
       "      <th>...</th>\n",
       "      <td>...</td>\n",
       "      <td>...</td>\n",
       "      <td>...</td>\n",
       "      <td>...</td>\n",
       "      <td>...</td>\n",
       "      <td>...</td>\n",
       "    </tr>\n",
       "    <tr>\n",
       "      <th>65799</th>\n",
       "      <td>8250</td>\n",
       "      <td>10050</td>\n",
       "      <td>6544482198</td>\n",
       "      <td>124</td>\n",
       "      <td>2022-12-09 21:29:24</td>\n",
       "      <td>3.51</td>\n",
       "    </tr>\n",
       "    <tr>\n",
       "      <th>120618</th>\n",
       "      <td>1750</td>\n",
       "      <td>3150</td>\n",
       "      <td>6744835875</td>\n",
       "      <td>124</td>\n",
       "      <td>2020-03-08 14:03:21</td>\n",
       "      <td>7.76</td>\n",
       "    </tr>\n",
       "    <tr>\n",
       "      <th>18853</th>\n",
       "      <td>4750</td>\n",
       "      <td>6550</td>\n",
       "      <td>6994456955</td>\n",
       "      <td>104</td>\n",
       "      <td>2021-02-19 10:48:02</td>\n",
       "      <td>2.18</td>\n",
       "    </tr>\n",
       "    <tr>\n",
       "      <th>10058</th>\n",
       "      <td>8750</td>\n",
       "      <td>9950</td>\n",
       "      <td>3043922568</td>\n",
       "      <td>110</td>\n",
       "      <td>2020-10-08 19:52:42</td>\n",
       "      <td>3.97</td>\n",
       "    </tr>\n",
       "    <tr>\n",
       "      <th>18838</th>\n",
       "      <td>1500</td>\n",
       "      <td>3000</td>\n",
       "      <td>7445765567</td>\n",
       "      <td>144</td>\n",
       "      <td>2020-12-26 11:23:21</td>\n",
       "      <td>28.62</td>\n",
       "    </tr>\n",
       "  </tbody>\n",
       "</table>\n",
       "<p>40000 rows × 6 columns</p>\n",
       "</div>"
      ],
      "text/plain": [
       "        ug_id  sm_id  gmailunit_id  agent_id                date  \\\n",
       "55716    8000   9800    9097318722       131 2022-04-04 20:39:37   \n",
       "108907   6750   7850    5445691566       133 2020-12-09 11:53:35   \n",
       "40264    6500   7800    1951212172       142 2022-08-16 17:32:46   \n",
       "65611    8750  10650     342531107       110 2022-05-05 09:07:43   \n",
       "21033    4250   5350    5574185202       138 2021-09-29 10:45:18   \n",
       "...       ...    ...           ...       ...                 ...   \n",
       "65799    8250  10050    6544482198       124 2022-12-09 21:29:24   \n",
       "120618   1750   3150    6744835875       124 2020-03-08 14:03:21   \n",
       "18853    4750   6550    6994456955       104 2021-02-19 10:48:02   \n",
       "10058    8750   9950    3043922568       110 2020-10-08 19:52:42   \n",
       "18838    1500   3000    7445765567       144 2020-12-26 11:23:21   \n",
       "\n",
       "        satisfaction_score  \n",
       "55716                66.27  \n",
       "108907               21.87  \n",
       "40264                74.42  \n",
       "65611                88.29  \n",
       "21033                96.14  \n",
       "...                    ...  \n",
       "65799                 3.51  \n",
       "120618                7.76  \n",
       "18853                 2.18  \n",
       "10058                 3.97  \n",
       "18838                28.62  \n",
       "\n",
       "[40000 rows x 6 columns]"
      ]
     },
     "execution_count": 39,
     "metadata": {},
     "output_type": "execute_result"
    }
   ],
   "source": [
    "result"
   ]
  },
  {
   "cell_type": "code",
   "execution_count": 40,
   "id": "f7186cdd",
   "metadata": {},
   "outputs": [],
   "source": [
    "import pickle"
   ]
  },
  {
   "cell_type": "code",
   "execution_count": 41,
   "id": "9af1bfee",
   "metadata": {},
   "outputs": [],
   "source": [
    "with open(\"vectorizer.pkl\",\"wb\") as f:\n",
    "    pickle.dump(count,f)"
   ]
  },
  {
   "cell_type": "code",
   "execution_count": 42,
   "id": "73c57df8",
   "metadata": {},
   "outputs": [],
   "source": [
    "with open(\"model.pkl\",\"wb\") as f:\n",
    "    pickle.dump(lr,f)"
   ]
  },
  {
   "cell_type": "code",
   "execution_count": 197,
   "id": "f223c00c",
   "metadata": {},
   "outputs": [
    {
     "name": "stdout",
     "output_type": "stream",
     "text": [
      "Write Something to the AgentAgent was awesome. He just solved my issue right away\n",
      "The customer satisfaction score is  96.0\n"
     ]
    }
   ],
   "source": [
    "text=input(\"Write Something to the Agent\")\n",
    "text=text.lower()\n",
    "text=remove_punctuation(text)\n",
    "text=remove_space(text)\n",
    "text=remove_stopwords(text)\n",
    "vect=count.transform([text]).toarray()\n",
    "print(\"The customer satisfaction score is \",np.round(lr.predict_proba(vect)[:,1][0]*100))"
   ]
  },
  {
   "cell_type": "code",
   "execution_count": 198,
   "id": "7474df11",
   "metadata": {},
   "outputs": [],
   "source": [
    "text=\"It was really bad experience, agent took too long to resolve my issue\"\n",
    "text=\"Satish was awesome. He just solved my issue right away\""
   ]
  },
  {
   "cell_type": "markdown",
   "id": "3ce2fd7c",
   "metadata": {},
   "source": [
    "## Analytics using Satisfaction Scores"
   ]
  },
  {
   "cell_type": "code",
   "execution_count": 53,
   "id": "bdcd27ee",
   "metadata": {},
   "outputs": [],
   "source": [
    "import matplotlib.pyplot as plt"
   ]
  },
  {
   "cell_type": "code",
   "execution_count": 115,
   "id": "ae1cca65",
   "metadata": {},
   "outputs": [
    {
     "data": {
      "text/plain": [
       "Text(0.5, 1.0, 'Sm id vs Average Satisfaction Score')"
      ]
     },
     "execution_count": 115,
     "metadata": {},
     "output_type": "execute_result"
    },
    {
     "data": {
      "image/png": "[encoded data removed]",
      "text/plain": [
       "<Figure size 1080x576 with 1 Axes>"
      ]
     },
     "metadata": {
      "needs_background": "light"
     },
     "output_type": "display_data"
    }
   ],
   "source": [
    "plt.figure(figsize=(15,8))\n",
    "df[df[\"ug_id\"]==1000].groupby(\"sm_id\")[\"satisfaction_score\"].mean().plot(kind=\"bar\",color='orange')\n",
    "plt.xlabel(\"sm_id\",fontsize=14)\n",
    "plt.grid()\n",
    "plt.ylabel(\"Average Satisfaction Score\",fontsize=14)\n",
    "plt.title(\"Sm id vs Average Satisfaction Score\",fontsize=14)"
   ]
  },
  {
   "cell_type": "code",
   "execution_count": 122,
   "id": "43269671",
   "metadata": {},
   "outputs": [
    {
     "data": {
      "text/plain": [
       "Text(0.5, 1.0, 'Sm id vs Minimu Satisfaction Score')"
      ]
     },
     "execution_count": 122,
     "metadata": {},
     "output_type": "execute_result"
    },
    {
     "data": {
      "image/png": "[encoded data removed]",
      "text/plain": [
       "<Figure size 1080x576 with 1 Axes>"
      ]
     },
     "metadata": {
      "needs_background": "light"
     },
     "output_type": "display_data"
    }
   ],
   "source": [
    "plt.figure(figsize=(15,8))\n",
    "df[df[\"ug_id\"]==1000].groupby(\"sm_id\")[\"satisfaction_score\"].min().plot(kind=\"bar\",color=\"red\")\n",
    "plt.xlabel(\"sm_id\",fontsize=14)\n",
    "plt.grid()\n",
    "plt.ylabel(\"Minimum Satisfaction Score\",fontsize=14)\n",
    "plt.title(\"Sm id vs Minimu Satisfaction Score\",fontsize=14)"
   ]
  },
  {
   "cell_type": "code",
   "execution_count": 110,
   "id": "c368364f",
   "metadata": {},
   "outputs": [
    {
     "data": {
      "text/plain": [
       "Text(0.5, 1.0, 'Sm id vs Maximum Satisfaction Score')"
      ]
     },
     "execution_count": 110,
     "metadata": {},
     "output_type": "execute_result"
    },
    {
     "data": {
      "image/png": "[encoded data removed]",
      "text/plain": [
       "<Figure size 1080x576 with 1 Axes>"
      ]
     },
     "metadata": {
      "needs_background": "light"
     },
     "output_type": "display_data"
    }
   ],
   "source": [
    "plt.figure(figsize=(15,8))\n",
    "df[df[\"ug_id\"]==1000].groupby(\"sm_id\")[\"satisfaction_score\"].max().plot(kind=\"bar\",color=\"green\")\n",
    "plt.xlabel(\"Sm_id\",fontsize=14)\n",
    "plt.grid()\n",
    "plt.ylabel(\"Maximum Satisfaction Score\",fontsize=14)\n",
    "plt.title(\"Sm id vs Maximum Satisfaction Score\",fontsize=14)"
   ]
  },
  {
   "cell_type": "code",
   "execution_count": 109,
   "id": "5484d678",
   "metadata": {},
   "outputs": [
    {
     "data": {
      "text/plain": [
       "Text(0.5, 1.0, 'Agent id vs Average Satisfaction Score')"
      ]
     },
     "execution_count": 109,
     "metadata": {},
     "output_type": "execute_result"
    },
    {
     "data": {
      "image/png": "[encoded data removed]",
      "text/plain": [
       "<Figure size 1440x576 with 1 Axes>"
      ]
     },
     "metadata": {
      "needs_background": "light"
     },
     "output_type": "display_data"
    }
   ],
   "source": [
    "plt.figure(figsize=(20,8))\n",
    "df[df[\"ug_id\"]==8250].groupby(\"agent_id\")[\"satisfaction_score\"].mean().plot(kind=\"bar\",color=\"blue\")\n",
    "plt.grid()\n",
    "plt.xlabel(\"Agent_id\",fontsize=14)\n",
    "plt.ylabel(\"Average Satisfaction Score\",fontsize=14)\n",
    "plt.title(\"Agent id vs Average Satisfaction Score\",fontsize=14)"
   ]
  },
  {
   "cell_type": "code",
   "execution_count": 106,
   "id": "b6d8326b",
   "metadata": {},
   "outputs": [
    {
     "data": {
      "text/plain": [
       "Text(0.5, 1.0, 'Time vs Average Satisfaction Score for sm_id 7800')"
      ]
     },
     "execution_count": 106,
     "metadata": {},
     "output_type": "execute_result"
    },
    {
     "data": {
      "image/png": "[encoded data removed]",
      "text/plain": [
       "<Figure size 1296x720 with 1 Axes>"
      ]
     },
     "metadata": {
      "needs_background": "light"
     },
     "output_type": "display_data"
    }
   ],
   "source": [
    "plt.figure(figsize=(18,10))\n",
    "df[df[\"sm_id\"]==7800].set_index(\"date\")[\"satisfaction_score\"].resample(\"M\").mean().plot(linewidth=7,grid=True)\n",
    "plt.xlabel(\"Time\",fontsize=14)\n",
    "plt.ylabel(\" Average Satisfaction Score\",fontsize=14)\n",
    "plt.title(\"Time vs Average Satisfaction Score for sm_id 7800\",fontsize=14)"
   ]
  },
  {
   "cell_type": "code",
   "execution_count": null,
   "id": "ecb33a0b",
   "metadata": {},
   "outputs": [],
   "source": []
  },
  {
   "cell_type": "code",
   "execution_count": 126,
   "id": "f532ad91",
   "metadata": {},
   "outputs": [],
   "source": [
    "import requests"
   ]
  },
  {
   "cell_type": "code",
   "execution_count": 134,
   "id": "222c4cbe",
   "metadata": {},
   "outputs": [],
   "source": [
    "url=\"https://8443-27-7-145-99.in.ngrok.io/scores\""
   ]
  },
  {
   "cell_type": "code",
   "execution_count": null,
   "id": "1030e598",
   "metadata": {},
   "outputs": [],
   "source": [
    "body={\n",
    "    \n",
    "}\n",
    "requests.post()"
   ]
  },
  {
   "cell_type": "code",
   "execution_count": 128,
   "id": "6291d159",
   "metadata": {},
   "outputs": [
    {
     "data": {
      "text/plain": [
       "8250     1157\n",
       "5500     1130\n",
       "1750     1124\n",
       "4250     1118\n",
       "7500     1116\n",
       "5250     1114\n",
       "9750     1114\n",
       "1000     1113\n",
       "3000     1111\n",
       "6750     1108\n",
       "5750     1106\n",
       "4000     1104\n",
       "1500     1101\n",
       "3250     1098\n",
       "9500     1094\n",
       "5000     1092\n",
       "6500     1082\n",
       "6000     1082\n",
       "8500     1076\n",
       "3750     1075\n",
       "2500     1073\n",
       "4500     1071\n",
       "4750     1070\n",
       "6250     1066\n",
       "1250     1064\n",
       "9000     1063\n",
       "7000     1063\n",
       "2750     1059\n",
       "8750     1059\n",
       "7750     1056\n",
       "9250     1049\n",
       "3500     1045\n",
       "2250     1043\n",
       "2000     1039\n",
       "8000     1033\n",
       "7250     1020\n",
       "10000    1012\n",
       "Name: ug_id, dtype: int64"
      ]
     },
     "execution_count": 128,
     "metadata": {},
     "output_type": "execute_result"
    }
   ],
   "source": [
    "df[\"ug_id\"].value_counts()"
   ]
  },
  {
   "cell_type": "code",
   "execution_count": 182,
   "id": "c599f180",
   "metadata": {},
   "outputs": [
    {
     "name": "stdout",
     "output_type": "stream",
     "text": [
      "{\"detail\":\"Score already exists\"}\n"
     ]
    }
   ],
   "source": [
    "for i,row in df[df[\"ug_id\"].isin([8250,5500,1750])].iterrows():\n",
    "    if i > 2900:\n",
    "        body={\n",
    "          \"id\": i,\n",
    "          \"company_id\": row[\"ug_id\"],\n",
    "          \"gmailunit_id\": row[\"gmailunit_id\"],\n",
    "          \"sentiment_score\": row[\"satisfaction_score\"],\n",
    "          \"closed_date\": str(row[\"date\"])\n",
    "        }\n",
    "        res=requests.post(url=url, json=body)\n",
    "        if res.status_code != 201:\n",
    "            print(res.text)\n",
    "            break"
   ]
  },
  {
   "cell_type": "code",
   "execution_count": 189,
   "id": "e2974ca0",
   "metadata": {},
   "outputs": [],
   "source": [
    "res=requests.get(url=url)"
   ]
  },
  {
   "cell_type": "code",
   "execution_count": 190,
   "id": "a4b2115b",
   "metadata": {},
   "outputs": [
    {
     "data": {
      "text/plain": [
       "200"
      ]
     },
     "execution_count": 190,
     "metadata": {},
     "output_type": "execute_result"
    }
   ],
   "source": [
    "res.status_code"
   ]
  },
  {
   "cell_type": "code",
   "execution_count": 191,
   "id": "e9fae0c0",
   "metadata": {},
   "outputs": [
    {
     "data": {
      "text/plain": [
       "267"
      ]
     },
     "execution_count": 191,
     "metadata": {},
     "output_type": "execute_result"
    }
   ],
   "source": [
    "len(res.json())"
   ]
  },
  {
   "cell_type": "code",
   "execution_count": 193,
   "id": "e7a34f10",
   "metadata": {},
   "outputs": [
    {
     "data": {
      "text/plain": [
       "Text(0.5, 1.0, 'Time vs Average Satisfaction Score for sm_id 7800')"
      ]
     },
     "execution_count": 193,
     "metadata": {},
     "output_type": "execute_result"
    },
    {
     "data": {
      "image/png": "[encoded data removed]",
      "text/plain": [
       "<Figure size 1296x720 with 1 Axes>"
      ]
     },
     "metadata": {
      "needs_background": "light"
     },
     "output_type": "display_data"
    }
   ],
   "source": [
    "plt.figure(figsize=(18,10))\n",
    "df[df[\"sm_id\"]==7800].set_index(\"date\")[\"satisfaction_score\"].resample(\"M\").mean().plot(linewidth=7,grid=True)\n",
    "plt.xlabel(\"Time\",fontsize=14)\n",
    "plt.ylabel(\" Average Satisfaction Score\",fontsize=14)\n",
    "plt.title(\"Time vs Average Satisfaction Score for sm_id 7800\",fontsize=14)"
   ]
  },
  {
   "cell_type": "code",
   "execution_count": null,
   "id": "012d4727",
   "metadata": {},
   "outputs": [],
   "source": []
  }
 ],
 "metadata": {
  "kernelspec": {
   "display_name": "Python 3 (ipykernel)",
   "language": "python",
   "name": "python3"
  },
  "language_info": {
   "codemirror_mode": {
    "name": "ipython",
    "version": 3
   },
   "file_extension": ".py",
   "mimetype": "text/x-python",
   "name": "python",
   "nbconvert_exporter": "python",
   "pygments_lexer": "ipython3",
   "version": "3.8.5"
  }
 },
 "nbformat": 4,
 "nbformat_minor": 5
}
